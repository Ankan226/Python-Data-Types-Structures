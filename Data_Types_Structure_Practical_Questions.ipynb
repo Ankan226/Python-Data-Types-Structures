{
  "nbformat": 4,
  "nbformat_minor": 0,
  "metadata": {
    "colab": {
      "provenance": []
    },
    "kernelspec": {
      "name": "python3",
      "display_name": "Python 3"
    },
    "language_info": {
      "name": "python"
    }
  },
  "cells": [
    {
      "cell_type": "markdown",
      "source": [
        "1.Write a code to create a string with your name and print it?"
      ],
      "metadata": {
        "id": "umIGt-X-3V5H"
      }
    },
    {
      "cell_type": "code",
      "execution_count": 1,
      "metadata": {
        "colab": {
          "base_uri": "https://localhost:8080/"
        },
        "id": "6fWGmbI6288o",
        "outputId": "596b2145-c246-47d7-b7c6-f081cfd6ff17"
      },
      "outputs": [
        {
          "output_type": "stream",
          "name": "stdout",
          "text": [
            "Ankan\n"
          ]
        }
      ],
      "source": [
        "Name=\"Ankan\"\n",
        "print(Name)"
      ]
    },
    {
      "cell_type": "markdown",
      "source": [
        "2.Write a code to find the length of the string \"Hello World\"?"
      ],
      "metadata": {
        "id": "Tej7SsP-4IIw"
      }
    },
    {
      "cell_type": "code",
      "source": [
        "A=\"Hello World\"\n",
        "len(A)"
      ],
      "metadata": {
        "colab": {
          "base_uri": "https://localhost:8080/"
        },
        "id": "eWQJom0R3uIe",
        "outputId": "809f8e62-6d1d-4567-9ab2-86f65e68f232"
      },
      "execution_count": 3,
      "outputs": [
        {
          "output_type": "execute_result",
          "data": {
            "text/plain": [
              "11"
            ]
          },
          "metadata": {},
          "execution_count": 3
        }
      ]
    },
    {
      "cell_type": "markdown",
      "source": [
        "3. Write a code to slice the first 3 characters from the string \"Python Programming\"?"
      ],
      "metadata": {
        "id": "FAF7PwdT871R"
      }
    },
    {
      "cell_type": "code",
      "source": [
        "text=\"Python Programming\"\n",
        "sliced_text=text[:3]\n",
        "print(sliced_text)"
      ],
      "metadata": {
        "colab": {
          "base_uri": "https://localhost:8080/"
        },
        "id": "D3YqNYHi5ERM",
        "outputId": "d6a93274-c077-4ef0-dedb-bb5a3b62ed99"
      },
      "execution_count": 4,
      "outputs": [
        {
          "output_type": "stream",
          "name": "stdout",
          "text": [
            "Pyt\n"
          ]
        }
      ]
    },
    {
      "cell_type": "markdown",
      "source": [
        "4.Write a code to convert the string \"hello\" to uppercase?"
      ],
      "metadata": {
        "id": "zbAx9CKr_Ix6"
      }
    },
    {
      "cell_type": "code",
      "source": [
        "text=\"hello\"\n",
        "uppercase_text=text.upper()\n",
        "print(uppercase_text)"
      ],
      "metadata": {
        "colab": {
          "base_uri": "https://localhost:8080/"
        },
        "id": "LhhYpUXG_CfY",
        "outputId": "a7663449-f1c2-4c77-e85b-84e9e65fad8b"
      },
      "execution_count": 13,
      "outputs": [
        {
          "output_type": "stream",
          "name": "stdout",
          "text": [
            "HELLO\n"
          ]
        }
      ]
    },
    {
      "cell_type": "markdown",
      "source": [
        "5.Write a code to replace the word \"apple\" with \"orange\" in the string \"I like apple\"?"
      ],
      "metadata": {
        "id": "nHJTLFQIAUeF"
      }
    },
    {
      "cell_type": "code",
      "source": [
        "text=\"I like apple\"\n",
        "modified_text=text.replace(\"apple\",\"orange\")\n",
        "print(modified_text)"
      ],
      "metadata": {
        "colab": {
          "base_uri": "https://localhost:8080/"
        },
        "id": "oUEY5i-K_UJS",
        "outputId": "32cdc8b4-7833-4dd7-9828-b87199441daf"
      },
      "execution_count": 14,
      "outputs": [
        {
          "output_type": "stream",
          "name": "stdout",
          "text": [
            "I like orange\n"
          ]
        }
      ]
    },
    {
      "cell_type": "markdown",
      "source": [
        "6.Write a code to create a list with numbers 1 to 5 and print it?"
      ],
      "metadata": {
        "id": "WuKhnVfIA43W"
      }
    },
    {
      "cell_type": "code",
      "source": [
        "numbers=[1,2,3,4,5]\n",
        "print(numbers)"
      ],
      "metadata": {
        "colab": {
          "base_uri": "https://localhost:8080/"
        },
        "id": "gb1ZwzzbAuKj",
        "outputId": "137772e4-c456-4652-a2b9-3e90ff2707d3"
      },
      "execution_count": 15,
      "outputs": [
        {
          "output_type": "stream",
          "name": "stdout",
          "text": [
            "[1, 2, 3, 4, 5]\n"
          ]
        }
      ]
    },
    {
      "cell_type": "markdown",
      "source": [
        "7.Write a code to append the number 10 to the list [1, 2, 3, 4]?"
      ],
      "metadata": {
        "id": "6_LLYvD2BNMu"
      }
    },
    {
      "cell_type": "code",
      "source": [
        "numbers=[1,2,3,4]\n",
        "numbers.append(10)\n",
        "print(numbers)"
      ],
      "metadata": {
        "colab": {
          "base_uri": "https://localhost:8080/"
        },
        "id": "V5uvRkEXBGtG",
        "outputId": "74b2a6e9-4297-41b7-952d-b4a816bda72d"
      },
      "execution_count": 16,
      "outputs": [
        {
          "output_type": "stream",
          "name": "stdout",
          "text": [
            "[1, 2, 3, 4, 10]\n"
          ]
        }
      ]
    },
    {
      "cell_type": "markdown",
      "source": [
        "8.Write a code to remove the number 3 from the list [1, 2, 3, 4, 5]?"
      ],
      "metadata": {
        "id": "3tcXlh_GBfs5"
      }
    },
    {
      "cell_type": "code",
      "source": [
        "numbers=[1,2,3,4,5]\n",
        "numbers.remove(3)\n",
        "print(numbers)\n"
      ],
      "metadata": {
        "colab": {
          "base_uri": "https://localhost:8080/"
        },
        "id": "WuPeHRz2Bn23",
        "outputId": "18dfa2f8-c35d-4c21-891a-2682bdd80387"
      },
      "execution_count": 17,
      "outputs": [
        {
          "output_type": "stream",
          "name": "stdout",
          "text": [
            "[1, 2, 4, 5]\n"
          ]
        }
      ]
    },
    {
      "cell_type": "markdown",
      "source": [
        "9.Write a code to access the second element in the list ['a', 'b', 'c', 'd']?"
      ],
      "metadata": {
        "id": "nlVzkJp5Bzos"
      }
    },
    {
      "cell_type": "code",
      "source": [
        "elements=[\"a\",\"b\",\"c\",\"d\"]\n",
        "second_element=elements[1]\n",
        "print(second_element)"
      ],
      "metadata": {
        "colab": {
          "base_uri": "https://localhost:8080/"
        },
        "id": "OrcPxrQ1ByC0",
        "outputId": "4a6cac14-06da-49e6-b6a6-8fb6400dae50"
      },
      "execution_count": 18,
      "outputs": [
        {
          "output_type": "stream",
          "name": "stdout",
          "text": [
            "b\n"
          ]
        }
      ]
    },
    {
      "cell_type": "markdown",
      "source": [
        "10.Write a code to reverse the list [10, 20, 30, 40, 50].?"
      ],
      "metadata": {
        "id": "zKbVdhALCLp5"
      }
    },
    {
      "cell_type": "code",
      "source": [
        "list=[10,20,30,40,50]\n",
        "list.reverse()\n",
        "print(list)"
      ],
      "metadata": {
        "colab": {
          "base_uri": "https://localhost:8080/"
        },
        "id": "86Ds7QRSCKJx",
        "outputId": "da041188-dcd6-4eb1-9894-e24ea6fe8293"
      },
      "execution_count": 19,
      "outputs": [
        {
          "output_type": "stream",
          "name": "stdout",
          "text": [
            "[50, 40, 30, 20, 10]\n"
          ]
        }
      ]
    },
    {
      "cell_type": "markdown",
      "source": [
        "11. Write a code to create a tuple with the elements 10, 20, 30 and print it?"
      ],
      "metadata": {
        "id": "-PiBAhpVCcfB"
      }
    },
    {
      "cell_type": "code",
      "source": [
        "elements=(10,20,30)\n",
        "print(elements)"
      ],
      "metadata": {
        "colab": {
          "base_uri": "https://localhost:8080/"
        },
        "id": "hV-44-TlCaob",
        "outputId": "0c4af909-614f-4798-bb17-bc99d56ca46a"
      },
      "execution_count": 20,
      "outputs": [
        {
          "output_type": "stream",
          "name": "stdout",
          "text": [
            "(10, 20, 30)\n"
          ]
        }
      ]
    },
    {
      "cell_type": "markdown",
      "source": [
        "12.Write a code to access the first element of the tuple ('apple', 'banana', 'cherry')?"
      ],
      "metadata": {
        "id": "FH4qqZW7Cpbi"
      }
    },
    {
      "cell_type": "code",
      "source": [
        "fruits=(\"apple\",\"banana\",\"herry\")\n",
        "first_element=fruits[0]\n",
        "print(first_element)"
      ],
      "metadata": {
        "colab": {
          "base_uri": "https://localhost:8080/"
        },
        "id": "Co5DgI_NCnee",
        "outputId": "a18a4580-f7d6-476e-ff0d-383fb21a57ae"
      },
      "execution_count": 21,
      "outputs": [
        {
          "output_type": "stream",
          "name": "stdout",
          "text": [
            "apple\n"
          ]
        }
      ]
    },
    {
      "cell_type": "markdown",
      "source": [
        "13. Write a code to count how many times the number 2 appears in the tuple (1, 2, 3, 2, 4, 2).?"
      ],
      "metadata": {
        "id": "7BqeeUpnDDAq"
      }
    },
    {
      "cell_type": "code",
      "source": [
        "tuple=(1,2,3,2,4,2)\n",
        "tuple.count(2)"
      ],
      "metadata": {
        "colab": {
          "base_uri": "https://localhost:8080/"
        },
        "id": "Ipo1JOTvDBGq",
        "outputId": "57e9a04a-becf-4eec-91d8-1a42859b679d"
      },
      "execution_count": 22,
      "outputs": [
        {
          "output_type": "execute_result",
          "data": {
            "text/plain": [
              "3"
            ]
          },
          "metadata": {},
          "execution_count": 22
        }
      ]
    },
    {
      "cell_type": "markdown",
      "source": [
        "14.. Write a code to find the index of the element \"cat\" in the tuple ('dog', 'cat', 'rabbit')?"
      ],
      "metadata": {
        "id": "yp_TcAOvDU9d"
      }
    },
    {
      "cell_type": "code",
      "source": [
        "animals=(\"dog\",\"cat\",\"rabbit\")\n",
        "animals.index(\"cat\")"
      ],
      "metadata": {
        "colab": {
          "base_uri": "https://localhost:8080/"
        },
        "id": "AAYhb17RDRy1",
        "outputId": "cfb5be43-6835-4cab-8bc9-c498156e98a6"
      },
      "execution_count": 23,
      "outputs": [
        {
          "output_type": "execute_result",
          "data": {
            "text/plain": [
              "1"
            ]
          },
          "metadata": {},
          "execution_count": 23
        }
      ]
    },
    {
      "cell_type": "markdown",
      "source": [
        "15. Write a code to check if the element \"banana\" is in the tuple ('apple', 'orange', 'banana')?"
      ],
      "metadata": {
        "id": "J3kJen6JDlFk"
      }
    },
    {
      "cell_type": "code",
      "source": [
        "fruits=(\"apple\",\"orange\",\"banana\")\n",
        "if \"banana\" in fruits:\n",
        "    print(\"banana is in fruits\")\n",
        "else:\n",
        "    print(\"banana is not in fruits\")"
      ],
      "metadata": {
        "colab": {
          "base_uri": "https://localhost:8080/"
        },
        "id": "jHdTIYd5Djec",
        "outputId": "f6cad3a5-5673-4abe-8502-3cf35db8159a"
      },
      "execution_count": 24,
      "outputs": [
        {
          "output_type": "stream",
          "name": "stdout",
          "text": [
            "banana is in fruits\n"
          ]
        }
      ]
    },
    {
      "cell_type": "markdown",
      "source": [
        "16. Write a code to create a set with the elements 1, 2, 3, 4, 5 and print it?"
      ],
      "metadata": {
        "id": "-c5mvU2iENkg"
      }
    },
    {
      "cell_type": "code",
      "source": [
        "elements={1,2,3,4,5}\n",
        "print(elements)"
      ],
      "metadata": {
        "colab": {
          "base_uri": "https://localhost:8080/"
        },
        "id": "sowVIm42ELvH",
        "outputId": "35bd42ab-b562-4a44-eaad-5611668d28e1"
      },
      "execution_count": 25,
      "outputs": [
        {
          "output_type": "stream",
          "name": "stdout",
          "text": [
            "{1, 2, 3, 4, 5}\n"
          ]
        }
      ]
    },
    {
      "cell_type": "markdown",
      "source": [
        "17.Write a code to add the element 6 to the set {1, 2, 3, 4}?"
      ],
      "metadata": {
        "id": "ltt2YmN1EcCm"
      }
    },
    {
      "cell_type": "code",
      "source": [
        "set={1,2,3,4}\n",
        "set.add(6)\n",
        "print(set)"
      ],
      "metadata": {
        "colab": {
          "base_uri": "https://localhost:8080/"
        },
        "id": "l-yo_HWyEaYm",
        "outputId": "683c9f96-b497-4e0b-825e-0d4155773c87"
      },
      "execution_count": 26,
      "outputs": [
        {
          "output_type": "stream",
          "name": "stdout",
          "text": [
            "{1, 2, 3, 4, 6}\n"
          ]
        }
      ]
    },
    {
      "cell_type": "markdown",
      "source": [
        "18.Write a code to create a tuple with the elements 10, 20, 30 and print it?"
      ],
      "metadata": {
        "id": "Si7MdYOyEs75"
      }
    },
    {
      "cell_type": "code",
      "source": [
        "tuple=(10,20,30)\n",
        "print(tuple)"
      ],
      "metadata": {
        "colab": {
          "base_uri": "https://localhost:8080/"
        },
        "id": "fqHsLzFkEreS",
        "outputId": "93bbc5a9-fac4-41a8-df51-64b5f480f08d"
      },
      "execution_count": 27,
      "outputs": [
        {
          "output_type": "stream",
          "name": "stdout",
          "text": [
            "(10, 20, 30)\n"
          ]
        }
      ]
    },
    {
      "cell_type": "markdown",
      "source": [
        "19.Write a code to access the first element of the tuple ('apple', 'banana', 'cherry')?"
      ],
      "metadata": {
        "id": "e4d_tKt2FEob"
      }
    },
    {
      "cell_type": "code",
      "source": [
        "tuple=(\"apple\",\"banana\",\"cherry\")\n",
        "first_element=tuple[0]\n",
        "print(first_element)"
      ],
      "metadata": {
        "colab": {
          "base_uri": "https://localhost:8080/"
        },
        "id": "xCB7DWqaFDjI",
        "outputId": "e12f9c2b-00b1-42e0-995d-ceceff8434f9"
      },
      "execution_count": 28,
      "outputs": [
        {
          "output_type": "stream",
          "name": "stdout",
          "text": [
            "apple\n"
          ]
        }
      ]
    },
    {
      "cell_type": "markdown",
      "source": [
        "20.Write a code to count how many times the number 2 appears in the tuple (1, 2, 3, 2, 4, 2)?"
      ],
      "metadata": {
        "id": "CcVVEZlDFbUu"
      }
    },
    {
      "cell_type": "code",
      "source": [
        "tuple=(1,2,3,2,4,2)\n",
        "tuple.count(2)"
      ],
      "metadata": {
        "colab": {
          "base_uri": "https://localhost:8080/"
        },
        "id": "7U1tfnoLFaKg",
        "outputId": "eec3c53b-7dde-4d1d-aebc-b108d4ba9cb7"
      },
      "execution_count": 29,
      "outputs": [
        {
          "output_type": "execute_result",
          "data": {
            "text/plain": [
              "3"
            ]
          },
          "metadata": {},
          "execution_count": 29
        }
      ]
    },
    {
      "cell_type": "markdown",
      "source": [
        "21.Write a code to find the index of the element \"cat\" in the tuple ('dog', 'cat', 'rabbit')?"
      ],
      "metadata": {
        "id": "6KDNdCY4Fpw2"
      }
    },
    {
      "cell_type": "code",
      "source": [
        "tuple=(\"dog\",\"cat\",\"rabbit\")\n",
        "tuple.index(\"cat\")"
      ],
      "metadata": {
        "colab": {
          "base_uri": "https://localhost:8080/"
        },
        "id": "D7GbhkN7FoQV",
        "outputId": "bf4778e7-44eb-434d-804e-c9ccb8fa144b"
      },
      "execution_count": 30,
      "outputs": [
        {
          "output_type": "execute_result",
          "data": {
            "text/plain": [
              "1"
            ]
          },
          "metadata": {},
          "execution_count": 30
        }
      ]
    },
    {
      "cell_type": "markdown",
      "source": [
        "22.Write a code to check if the element \"banana\" is in the tuple ('apple', 'orange', 'banana')?"
      ],
      "metadata": {
        "id": "fZOqAtY4GDCv"
      }
    },
    {
      "cell_type": "code",
      "source": [
        "tuple=(\"apple\",\"banana\",\"orange\")\n",
        "if \"banana\" in tuple:\n",
        "    print(\"banana is in tuple\")\n",
        "else:\n",
        "    print(\"banana is not in tuple\")"
      ],
      "metadata": {
        "colab": {
          "base_uri": "https://localhost:8080/"
        },
        "id": "z6ucnsAWF9yK",
        "outputId": "bdb879b9-d6a3-412e-d7a7-374dd1df68b9"
      },
      "execution_count": 31,
      "outputs": [
        {
          "output_type": "stream",
          "name": "stdout",
          "text": [
            "banana is in tuple\n"
          ]
        }
      ]
    },
    {
      "cell_type": "markdown",
      "source": [
        "23. Write a code to create a set with the elements 1, 2, 3, 4, 5 and print it?"
      ],
      "metadata": {
        "id": "uZcjspBBG2TI"
      }
    },
    {
      "cell_type": "code",
      "source": [
        "set={1,2,3,4,5}\n",
        "print(set)"
      ],
      "metadata": {
        "colab": {
          "base_uri": "https://localhost:8080/"
        },
        "id": "OhDZ0l0MG0h3",
        "outputId": "4c59d036-5675-4984-e03d-4d847a41bd6b"
      },
      "execution_count": 32,
      "outputs": [
        {
          "output_type": "stream",
          "name": "stdout",
          "text": [
            "{1, 2, 3, 4, 5}\n"
          ]
        }
      ]
    },
    {
      "cell_type": "markdown",
      "source": [
        "24.Write a code to add the element 6 to the set {1, 2, 3, 4}?"
      ],
      "metadata": {
        "id": "Zq_aQopZHCLn"
      }
    },
    {
      "cell_type": "code",
      "source": [
        "set={1,2,3,4}\n",
        "set.add(6)\n",
        "print(set)"
      ],
      "metadata": {
        "colab": {
          "base_uri": "https://localhost:8080/"
        },
        "id": "toueJVZnHBBU",
        "outputId": "53e67c0b-c6a8-41bb-99f5-b8c81f319bcf"
      },
      "execution_count": 34,
      "outputs": [
        {
          "output_type": "stream",
          "name": "stdout",
          "text": [
            "{1, 2, 3, 4, 6}\n"
          ]
        }
      ]
    }
  ]
}